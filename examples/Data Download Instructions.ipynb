{
 "cells": [
  {
   "cell_type": "markdown",
   "metadata": {},
   "source": [
    "# NOAA LCD Data\n",
    "\n",
    "To download weather data from [NOAA NCDC Data Tool](https://www.ncdc.noaa.gov/cdo-web/datatools/lcd) do the following for each location in 10 year blocks (e.g., 1990-1999, 2000-2009, and 2010-2019)."
   ]
  },
  {
   "cell_type": "markdown",
   "metadata": {},
   "source": [
    "## Step 1\n",
    "\n",
    "- Specify the zipcode for the desired location using  `locations.csv`.\n",
    "- Click `ADD TO CART` for the airport, then click `Cart (Free Data) 1 Item` in the upper right corner.\n",
    "\n",
    "<div>\n",
    "   <img src=\"noaa/lcd_tool_1.png\" width=400 />\n",
    "</div>"
   ]
  },
  {
   "cell_type": "markdown",
   "metadata": {},
   "source": [
    "## Step 2\n",
    "\n",
    "- Select the `LCD CSV` output format\n",
    "- Select the 10-year date range. (You cannot download more than 10 years at a time.)\n",
    "- Click `CONTINUE`\n",
    "\n",
    "<div>\n",
    "    <img src=\"noaa/lcd_tool_2.png\" width=300 />\n",
    "</div>"
   ]
  },
  {
   "cell_type": "markdown",
   "metadata": {},
   "source": [
    "## Step 3\n",
    "\n",
    "- Review your data request and edit the order if necessary\n",
    "- Enter your email address and verify it\n",
    "- Click `SUBMIT ORDER`\n",
    "\n",
    "<div>\n",
    "    <img src=\"noaa/lcd_tool_3.png\" width=300 />\n",
    "</div>"
   ]
  },
  {
   "cell_type": "markdown",
   "metadata": {},
   "source": [
    "## Step 4\n",
    "\n",
    "Once you have downloaded the three 10 years blocks, you can collate the data using the `collate_data(location)` command. After the data is collated, you can use the `extract_daily_minmax(location)` command to obtain the 10th and 90th percentile temperatures needed for the weather analysis."
   ]
  },
  {
   "cell_type": "code",
   "execution_count": 4,
   "metadata": {},
   "outputs": [
    {
     "ename": "ImportError",
     "evalue": "attempted relative import with no known parent package",
     "output_type": "error",
     "traceback": [
      "\u001b[0;31m---------------------------------------------------------------------------\u001b[0m",
      "\u001b[0;31mImportError\u001b[0m                               Traceback (most recent call last)",
      "\u001b[0;32m<ipython-input-4-591aebf1f636>\u001b[0m in \u001b[0;36m<module>\u001b[0;34m\u001b[0m\n\u001b[0;32m----> 1\u001b[0;31m \u001b[0;32mfrom\u001b[0m \u001b[0;34m.\u001b[0m\u001b[0msrc\u001b[0m\u001b[0;34m.\u001b[0m\u001b[0mweather\u001b[0m \u001b[0;32mimport\u001b[0m \u001b[0mnoaa\u001b[0m\u001b[0;34m\u001b[0m\u001b[0;34m\u001b[0m\u001b[0m\n\u001b[0m\u001b[1;32m      2\u001b[0m \u001b[0mnoaa\u001b[0m\u001b[0;34m.\u001b[0m\u001b[0mcollate_data\u001b[0m\u001b[0;34m(\u001b[0m\u001b[0;34m\"PDX\"\u001b[0m\u001b[0;34m)\u001b[0m\u001b[0;34m\u001b[0m\u001b[0;34m\u001b[0m\u001b[0m\n\u001b[1;32m      3\u001b[0m \u001b[0;34m\u001b[0m\u001b[0m\n\u001b[1;32m      4\u001b[0m \u001b[0mnoaa\u001b[0m\u001b[0;34m.\u001b[0m\u001b[0mextract_daily_minmax\u001b[0m\u001b[0;34m(\u001b[0m\u001b[0;34m\"PDX\"\u001b[0m\u001b[0;34m)\u001b[0m\u001b[0;34m\u001b[0m\u001b[0;34m\u001b[0m\u001b[0m\n",
      "\u001b[0;31mImportError\u001b[0m: attempted relative import with no known parent package"
     ]
    }
   ],
   "source": [
    "from .src.weather import noaa\n",
    "noaa.collate_data(\"PDX\")\n",
    "\n",
    "noaa.extract_daily_minmax(\"PDX\")"
   ]
  },
  {
   "cell_type": "markdown",
   "metadata": {},
   "source": [
    "# Canadian Weather Data\n",
    "\n",
    "This data is obtained from [Environment and Natural Resources Canada](https://climate.weather.gc.ca/historical_data/search_historic_data_e.html)"
   ]
  },
  {
   "cell_type": "code",
   "execution_count": null,
   "metadata": {},
   "outputs": [],
   "source": []
  }
 ],
 "metadata": {
  "kernelspec": {
   "display_name": "Python 3",
   "language": "python",
   "name": "python3"
  },
  "language_info": {
   "codemirror_mode": {
    "name": "ipython",
    "version": 3
   },
   "file_extension": ".py",
   "mimetype": "text/x-python",
   "name": "python",
   "nbconvert_exporter": "python",
   "pygments_lexer": "ipython3",
   "version": "3.7.6"
  }
 },
 "nbformat": 4,
 "nbformat_minor": 2
}
