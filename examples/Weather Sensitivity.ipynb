{
 "cells": [
  {
   "cell_type": "markdown",
   "metadata": {},
   "source": [
    "The load modeling tool produces a piece-wise linear load model of power as function of temperature.  The load model tool reads a CSV file containing timestamped samples of power and temperature data.  The data is separated into three groups, heating, cooling, and neither.  This latter category is called the base load, and corresponds to loads for temperature conditions between the heating and cooling balance temperatures, as shown in Figure 1.\n",
    "\n",
    "![example.png](example.png \"Example\")\n",
    "Figure 1: Example load model"
   ]
  },
  {
   "cell_type": "code",
   "execution_count": 1,
   "metadata": {},
   "outputs": [
    {
     "name": "stdout",
     "output_type": "stream",
     "text": [
      "                       power  temperature\n",
      "datetime                                 \n",
      "2014-10-01 00:00:00  1798.85        52.35\n",
      "2014-10-01 00:05:00  1782.63        52.26\n",
      "2014-10-01 00:10:00  1766.58        52.14\n",
      "2014-10-01 00:15:00  1768.91        51.95\n",
      "2014-10-01 00:20:00  1756.20        51.99\n",
      "2014-10-01 00:25:00  1744.86        51.98\n",
      "2014-10-01 00:30:00  1734.70        51.86\n",
      "2014-10-01 00:35:00  1750.62        51.96\n",
      "2014-10-01 00:40:00  1730.56        52.05\n",
      "2014-10-01 00:45:00  1724.83        51.86\n"
     ]
    }
   ],
   "source": [
    "import os, sys\n",
    "currentdir = os.path.abspath('')\n",
    "parentdir = os.path.dirname(currentdir)\n",
    "sys.path.append(parentdir)\n",
    "\n",
    "import pandas as pd\n",
    "import src.weather.sensitivity as lm\n",
    "data = lm.load_data(ifile=f'{parentdir}/data/weather/testdata.csv',datetime_col=0,power_col=1,temperature_col=2)\n",
    "print(data[0:10])"
   ]
  },
  {
   "cell_type": "code",
   "execution_count": 2,
   "metadata": {},
   "outputs": [
    {
     "name": "stderr",
     "output_type": "stream",
     "text": [
      "/Users/derins/opt/anaconda3/lib/python3.7/site-packages/pwlf/pwlf.py:1109: RuntimeWarning: invalid value encountered in double_scalars\n",
      "  (self.fit_breaks[i+1]-self.fit_breaks[i])\n"
     ]
    },
    {
     "name": "stdout",
     "output_type": "stream",
     "text": [
      "     Pbase   Pheat   Pcool  Tmin  Theat  Tcool  Tmax  Sbase  Sheat  Scool\n",
      "0  1,776.2 2,696.8 2,712.6  22.0   52.9   62.1  83.1    7.8  -31.0   43.0\n",
      "1  1,692.0 2,644.0 2,496.0  21.6   52.2   60.8  81.9    5.7  -32.0   36.9\n",
      "2  1,644.7 2,629.1 2,323.8  21.5   51.1   59.1  80.7    0.7  -33.3   31.3\n",
      "3  1,642.0 2,667.7 2,192.7  21.3   49.4   57.4  78.8   -8.1  -35.4   27.1\n",
      "4  1,684.3 2,775.2 2,149.0  20.9   49.2   56.6  77.5  -11.2  -37.0   24.2\n",
      "5  1,789.9 2,974.7 2,192.6  20.5   52.1   57.8  75.7   -0.3  -37.4   22.5\n",
      "6  1,989.0 3,274.7 2,296.0  20.4   53.3   58.7  75.7   -4.4  -38.8   18.7\n",
      "7  2,156.4 3,492.5 2,524.9  20.2   53.8   58.8  81.2  -12.3  -38.8   17.8\n",
      "8  2,241.8 3,560.2 2,717.4  20.2   54.6   59.9  83.8   -8.7  -37.7   20.9\n",
      "9  2,305.4 3,568.5 2,919.8  21.6   55.0   61.9  86.6   -5.2  -37.3   25.6\n",
      "10 2,341.3 3,523.2 3,151.1  23.2   55.5   63.3  91.1   -5.5  -35.9   30.0\n",
      "11 2,354.2 3,448.5 3,358.9  24.6   55.6   65.1  95.8   -5.5  -34.5   33.5\n",
      "12 2,367.4 3,443.4 3,492.9  24.8   53.4   65.8  98.3  -11.3  -35.2   36.7\n",
      "13 2,355.7 3,383.0 3,601.0  25.7   53.4   67.0 100.5  -10.5  -34.5   39.4\n",
      "14 2,328.9 3,359.0 3,825.0  25.1   53.3   67.7 105.8  -11.1  -33.7   41.3\n",
      "15 2,310.1 3,390.7 3,935.7  23.7   54.0   68.8 106.9  -10.3  -33.1   44.7\n",
      "16 2,316.8 3,492.4 4,015.4  23.6   54.7   69.5 107.0  -10.7  -35.3   47.5\n",
      "17 2,348.9 3,690.5 4,040.2  23.6   55.3   69.5 106.6  -13.9  -39.2   48.3\n",
      "18 2,340.7 3,654.9 3,997.2  23.1   58.4   70.0 105.1   -8.1  -36.0   48.6\n",
      "19 2,377.4 3,570.2 3,870.7  22.7   58.1   71.2 101.6    2.5  -34.2   48.5\n",
      "20 2,372.2 3,461.9 3,756.6  22.6   55.6   68.0  97.9   -0.6  -33.0   46.4\n",
      "21 2,300.2 3,270.7 3,622.7  22.2   56.5   67.7  91.5   14.0  -30.6   52.2\n",
      "22 2,122.2 3,037.2 3,278.6  22.2   55.3   65.7  86.8   15.7  -30.1   51.0\n",
      "23 1,925.3 2,820.9 3,016.0  22.2   54.3   64.0  85.3   13.1  -30.0   48.3\n"
     ]
    }
   ],
   "source": [
    "model = lm.get_model(data,datetime_col=0,power_col=1,temperature_col=2)\n",
    "pd.options.display.float_format = '{:,.1f}'.format\n",
    "print(model)"
   ]
  },
  {
   "cell_type": "markdown",
   "metadata": {},
   "source": [
    "# Example results"
   ]
  },
  {
   "cell_type": "code",
   "execution_count": 3,
   "metadata": {},
   "outputs": [],
   "source": [
    "import matplotlib.pyplot as plt\n",
    "import numpy as np"
   ]
  },
  {
   "cell_type": "markdown",
   "metadata": {},
   "source": [
    "This example computes the load for a single hour/temperature point."
   ]
  },
  {
   "cell_type": "code",
   "execution_count": 4,
   "metadata": {},
   "outputs": [
    {
     "ename": "KeyError",
     "evalue": "15",
     "output_type": "error",
     "traceback": [
      "\u001b[0;31m---------------------------------------------------------------------------\u001b[0m",
      "\u001b[0;31mKeyError\u001b[0m                                  Traceback (most recent call last)",
      "\u001b[0;32m~/opt/anaconda3/lib/python3.7/site-packages/pandas/core/indexes/base.py\u001b[0m in \u001b[0;36mget_loc\u001b[0;34m(self, key, method, tolerance)\u001b[0m\n\u001b[1;32m   2894\u001b[0m             \u001b[0;32mtry\u001b[0m\u001b[0;34m:\u001b[0m\u001b[0;34m\u001b[0m\u001b[0;34m\u001b[0m\u001b[0m\n\u001b[0;32m-> 2895\u001b[0;31m                 \u001b[0;32mreturn\u001b[0m \u001b[0mself\u001b[0m\u001b[0;34m.\u001b[0m\u001b[0m_engine\u001b[0m\u001b[0;34m.\u001b[0m\u001b[0mget_loc\u001b[0m\u001b[0;34m(\u001b[0m\u001b[0mcasted_key\u001b[0m\u001b[0;34m)\u001b[0m\u001b[0;34m\u001b[0m\u001b[0;34m\u001b[0m\u001b[0m\n\u001b[0m\u001b[1;32m   2896\u001b[0m             \u001b[0;32mexcept\u001b[0m \u001b[0mKeyError\u001b[0m \u001b[0;32mas\u001b[0m \u001b[0merr\u001b[0m\u001b[0;34m:\u001b[0m\u001b[0;34m\u001b[0m\u001b[0;34m\u001b[0m\u001b[0m\n",
      "\u001b[0;32mpandas/_libs/index.pyx\u001b[0m in \u001b[0;36mpandas._libs.index.IndexEngine.get_loc\u001b[0;34m()\u001b[0m\n",
      "\u001b[0;32mpandas/_libs/index.pyx\u001b[0m in \u001b[0;36mpandas._libs.index.IndexEngine.get_loc\u001b[0;34m()\u001b[0m\n",
      "\u001b[0;32mpandas/_libs/hashtable_class_helper.pxi\u001b[0m in \u001b[0;36mpandas._libs.hashtable.PyObjectHashTable.get_item\u001b[0;34m()\u001b[0m\n",
      "\u001b[0;32mpandas/_libs/hashtable_class_helper.pxi\u001b[0m in \u001b[0;36mpandas._libs.hashtable.PyObjectHashTable.get_item\u001b[0;34m()\u001b[0m\n",
      "\u001b[0;31mKeyError\u001b[0m: 15",
      "\nThe above exception was the direct cause of the following exception:\n",
      "\u001b[0;31mKeyError\u001b[0m                                  Traceback (most recent call last)",
      "\u001b[0;32m<ipython-input-4-4ff52f236313>\u001b[0m in \u001b[0;36m<module>\u001b[0;34m\u001b[0m\n\u001b[1;32m      1\u001b[0m \u001b[0mh\u001b[0m \u001b[0;34m=\u001b[0m \u001b[0;36m15\u001b[0m\u001b[0;34m\u001b[0m\u001b[0;34m\u001b[0m\u001b[0m\n\u001b[1;32m      2\u001b[0m \u001b[0mt\u001b[0m \u001b[0;34m=\u001b[0m \u001b[0;36m95.0\u001b[0m\u001b[0;34m\u001b[0m\u001b[0;34m\u001b[0m\u001b[0m\n\u001b[0;32m----> 3\u001b[0;31m \u001b[0mp\u001b[0m \u001b[0;34m=\u001b[0m \u001b[0mlm\u001b[0m\u001b[0;34m.\u001b[0m\u001b[0mget_load\u001b[0m\u001b[0;34m(\u001b[0m\u001b[0mmodel\u001b[0m\u001b[0;34m,\u001b[0m\u001b[0mh\u001b[0m\u001b[0;34m,\u001b[0m\u001b[0mt\u001b[0m\u001b[0;34m)\u001b[0m\u001b[0;34m\u001b[0m\u001b[0;34m\u001b[0m\u001b[0m\n\u001b[0m",
      "\u001b[0;32m~/Documents/gismo/load_composition_analysis/src/weather/sensitivity.py\u001b[0m in \u001b[0;36mget_load\u001b[0;34m(model, hour, temperature, convert, normalize)\u001b[0m\n\u001b[1;32m    308\u001b[0m         \u001b[0;32mreturn\u001b[0m \u001b[0mget_load_0\u001b[0m\u001b[0;34m(\u001b[0m\u001b[0mmodel\u001b[0m\u001b[0;34m,\u001b[0m\u001b[0mhour\u001b[0m\u001b[0;34m,\u001b[0m\u001b[0mtemperature\u001b[0m\u001b[0;34m,\u001b[0m\u001b[0mconvert\u001b[0m\u001b[0;34m=\u001b[0m\u001b[0mlist\u001b[0m\u001b[0;34m,\u001b[0m\u001b[0mnormalize\u001b[0m\u001b[0;34m=\u001b[0m\u001b[0;32mFalse\u001b[0m\u001b[0;34m)\u001b[0m\u001b[0;34m\u001b[0m\u001b[0;34m\u001b[0m\u001b[0m\n\u001b[1;32m    309\u001b[0m     \u001b[0;32melif\u001b[0m \u001b[0mconfig\u001b[0m\u001b[0;34m.\u001b[0m\u001b[0mModel\u001b[0m \u001b[0;34m==\u001b[0m \u001b[0;36m1\u001b[0m\u001b[0;34m:\u001b[0m\u001b[0;34m\u001b[0m\u001b[0;34m\u001b[0m\u001b[0m\n\u001b[0;32m--> 310\u001b[0;31m         \u001b[0;32mreturn\u001b[0m \u001b[0mget_load_1\u001b[0m\u001b[0;34m(\u001b[0m\u001b[0mmodel\u001b[0m\u001b[0;34m,\u001b[0m\u001b[0mhour\u001b[0m\u001b[0;34m,\u001b[0m\u001b[0mtemperature\u001b[0m\u001b[0;34m,\u001b[0m\u001b[0mconvert\u001b[0m\u001b[0;34m=\u001b[0m\u001b[0mlist\u001b[0m\u001b[0;34m,\u001b[0m\u001b[0mnormalize\u001b[0m\u001b[0;34m=\u001b[0m\u001b[0;32mFalse\u001b[0m\u001b[0;34m)\u001b[0m\u001b[0;34m\u001b[0m\u001b[0;34m\u001b[0m\u001b[0m\n\u001b[0m\u001b[1;32m    311\u001b[0m     \u001b[0;32melse\u001b[0m\u001b[0;34m:\u001b[0m\u001b[0;34m\u001b[0m\u001b[0;34m\u001b[0m\u001b[0m\n\u001b[1;32m    312\u001b[0m         \u001b[0;32mraise\u001b[0m \u001b[0mException\u001b[0m\u001b[0;34m(\u001b[0m\u001b[0;34mf\"config.Model = {config.Model} is not valid\"\u001b[0m\u001b[0;34m)\u001b[0m\u001b[0;34m\u001b[0m\u001b[0;34m\u001b[0m\u001b[0m\n",
      "\u001b[0;32m~/Documents/gismo/load_composition_analysis/src/weather/sensitivity.py\u001b[0m in \u001b[0;36mget_load_1\u001b[0;34m(model, hour, temperature, convert, normalize)\u001b[0m\n\u001b[1;32m    355\u001b[0m \u001b[0;34m\u001b[0m\u001b[0m\n\u001b[1;32m    356\u001b[0m \u001b[0;32mdef\u001b[0m \u001b[0mget_load_1\u001b[0m\u001b[0;34m(\u001b[0m\u001b[0mmodel\u001b[0m\u001b[0;34m,\u001b[0m\u001b[0mhour\u001b[0m\u001b[0;34m,\u001b[0m\u001b[0mtemperature\u001b[0m\u001b[0;34m,\u001b[0m\u001b[0mconvert\u001b[0m\u001b[0;34m,\u001b[0m\u001b[0mnormalize\u001b[0m\u001b[0;34m)\u001b[0m\u001b[0;34m:\u001b[0m\u001b[0;34m\u001b[0m\u001b[0;34m\u001b[0m\u001b[0m\n\u001b[0;32m--> 357\u001b[0;31m     \u001b[0;32mreturn\u001b[0m \u001b[0mmodel\u001b[0m\u001b[0;34m[\u001b[0m\u001b[0mhour\u001b[0m\u001b[0;34m]\u001b[0m\u001b[0;34m.\u001b[0m\u001b[0mget_predict\u001b[0m\u001b[0;34m(\u001b[0m\u001b[0mtemperature\u001b[0m\u001b[0;34m)\u001b[0m\u001b[0;34m\u001b[0m\u001b[0;34m\u001b[0m\u001b[0m\n\u001b[0m\u001b[1;32m    358\u001b[0m \u001b[0;34m\u001b[0m\u001b[0m\n\u001b[1;32m    359\u001b[0m def get_model(data, datetime_col, power_col, temperature_col,\n",
      "\u001b[0;32m~/opt/anaconda3/lib/python3.7/site-packages/pandas/core/frame.py\u001b[0m in \u001b[0;36m__getitem__\u001b[0;34m(self, key)\u001b[0m\n\u001b[1;32m   2904\u001b[0m             \u001b[0;32mif\u001b[0m \u001b[0mself\u001b[0m\u001b[0;34m.\u001b[0m\u001b[0mcolumns\u001b[0m\u001b[0;34m.\u001b[0m\u001b[0mnlevels\u001b[0m \u001b[0;34m>\u001b[0m \u001b[0;36m1\u001b[0m\u001b[0;34m:\u001b[0m\u001b[0;34m\u001b[0m\u001b[0;34m\u001b[0m\u001b[0m\n\u001b[1;32m   2905\u001b[0m                 \u001b[0;32mreturn\u001b[0m \u001b[0mself\u001b[0m\u001b[0;34m.\u001b[0m\u001b[0m_getitem_multilevel\u001b[0m\u001b[0;34m(\u001b[0m\u001b[0mkey\u001b[0m\u001b[0;34m)\u001b[0m\u001b[0;34m\u001b[0m\u001b[0;34m\u001b[0m\u001b[0m\n\u001b[0;32m-> 2906\u001b[0;31m             \u001b[0mindexer\u001b[0m \u001b[0;34m=\u001b[0m \u001b[0mself\u001b[0m\u001b[0;34m.\u001b[0m\u001b[0mcolumns\u001b[0m\u001b[0;34m.\u001b[0m\u001b[0mget_loc\u001b[0m\u001b[0;34m(\u001b[0m\u001b[0mkey\u001b[0m\u001b[0;34m)\u001b[0m\u001b[0;34m\u001b[0m\u001b[0;34m\u001b[0m\u001b[0m\n\u001b[0m\u001b[1;32m   2907\u001b[0m             \u001b[0;32mif\u001b[0m \u001b[0mis_integer\u001b[0m\u001b[0;34m(\u001b[0m\u001b[0mindexer\u001b[0m\u001b[0;34m)\u001b[0m\u001b[0;34m:\u001b[0m\u001b[0;34m\u001b[0m\u001b[0;34m\u001b[0m\u001b[0m\n\u001b[1;32m   2908\u001b[0m                 \u001b[0mindexer\u001b[0m \u001b[0;34m=\u001b[0m \u001b[0;34m[\u001b[0m\u001b[0mindexer\u001b[0m\u001b[0;34m]\u001b[0m\u001b[0;34m\u001b[0m\u001b[0;34m\u001b[0m\u001b[0m\n",
      "\u001b[0;32m~/opt/anaconda3/lib/python3.7/site-packages/pandas/core/indexes/base.py\u001b[0m in \u001b[0;36mget_loc\u001b[0;34m(self, key, method, tolerance)\u001b[0m\n\u001b[1;32m   2895\u001b[0m                 \u001b[0;32mreturn\u001b[0m \u001b[0mself\u001b[0m\u001b[0;34m.\u001b[0m\u001b[0m_engine\u001b[0m\u001b[0;34m.\u001b[0m\u001b[0mget_loc\u001b[0m\u001b[0;34m(\u001b[0m\u001b[0mcasted_key\u001b[0m\u001b[0;34m)\u001b[0m\u001b[0;34m\u001b[0m\u001b[0;34m\u001b[0m\u001b[0m\n\u001b[1;32m   2896\u001b[0m             \u001b[0;32mexcept\u001b[0m \u001b[0mKeyError\u001b[0m \u001b[0;32mas\u001b[0m \u001b[0merr\u001b[0m\u001b[0;34m:\u001b[0m\u001b[0;34m\u001b[0m\u001b[0;34m\u001b[0m\u001b[0m\n\u001b[0;32m-> 2897\u001b[0;31m                 \u001b[0;32mraise\u001b[0m \u001b[0mKeyError\u001b[0m\u001b[0;34m(\u001b[0m\u001b[0mkey\u001b[0m\u001b[0;34m)\u001b[0m \u001b[0;32mfrom\u001b[0m \u001b[0merr\u001b[0m\u001b[0;34m\u001b[0m\u001b[0;34m\u001b[0m\u001b[0m\n\u001b[0m\u001b[1;32m   2898\u001b[0m \u001b[0;34m\u001b[0m\u001b[0m\n\u001b[1;32m   2899\u001b[0m         \u001b[0;32mif\u001b[0m \u001b[0mtolerance\u001b[0m \u001b[0;32mis\u001b[0m \u001b[0;32mnot\u001b[0m \u001b[0;32mNone\u001b[0m\u001b[0;34m:\u001b[0m\u001b[0;34m\u001b[0m\u001b[0;34m\u001b[0m\u001b[0m\n",
      "\u001b[0;31mKeyError\u001b[0m: 15"
     ]
    }
   ],
   "source": [
    "h = 15\n",
    "t = 95.0\n",
    "p = lm.get_load(model,h,t)"
   ]
  },
  {
   "cell_type": "markdown",
   "metadata": {},
   "source": [
    "This example computes the load for each hour of the day at a given temperature."
   ]
  },
  {
   "cell_type": "code",
   "execution_count": null,
   "metadata": {},
   "outputs": [],
   "source": [
    "h = range(24)\n",
    "t = 95.0\n",
    "p = lm.get_load(model,h,t)\n",
    "\n",
    "plt.plot(h,p)\n",
    "plt.xlabel(\"Hour of day\")\n",
    "plt.ylabel(\"Load (MW)\")\n",
    "plt.title(\"Example 2: Load at 95 degF\")\n",
    "plt.grid()\n",
    "plt.show()"
   ]
  },
  {
   "cell_type": "markdown",
   "metadata": {},
   "source": [
    "This example computes the load profile for an hour of the day."
   ]
  },
  {
   "cell_type": "code",
   "execution_count": null,
   "metadata": {},
   "outputs": [],
   "source": [
    "h = 15\n",
    "t = np.arange(25,95)\n",
    "p = lm.get_load(model,h,t)\n",
    "\n",
    "plt.plot(t,p)\n",
    "plt.xlabel(\"Temperature (degF)\")\n",
    "plt.ylabel(\"Load (MW)\")\n",
    "plt.title(\"Example 3: Load at 15:00h\")\n",
    "plt.grid()\n",
    "plt.show()"
   ]
  },
  {
   "cell_type": "markdown",
   "metadata": {},
   "source": [
    "This example computes the normalized load shape for various temperature conditions."
   ]
  },
  {
   "cell_type": "code",
   "execution_count": null,
   "metadata": {},
   "outputs": [],
   "source": [
    "Tmin = model[\"Tmin\"].min()\n",
    "Tmax = model[\"Tmax\"].max()\n",
    "Tavg = model[\"Theat\"].mean()/2 + model[\"Tcool\"].mean()/2\n",
    "h = range(24)\n",
    "t = {f\"Winter ({Tmin:.0f}degF)\":Tmin,\n",
    "     f\"Spring ({Tavg:.0f}degF)\":Tavg,\n",
    "     f\"Summer ({Tmax:.0f}degF)\":Tmax}\n",
    "p = lm.get_load(model,h,t.values(),normalize=True)\n",
    "\n",
    "plt.plot(p)\n",
    "plt.xlabel(\"Hour of day\")\n",
    "plt.ylabel(\"Load (MW)\")\n",
    "plt.title(\"Example 4: Load shapes\")\n",
    "plt.grid()\n",
    "plt.legend(t.keys())\n",
    "plt.show()"
   ]
  },
  {
   "cell_type": "markdown",
   "metadata": {},
   "source": [
    "This example outputs the normalized load profiles for different times of day."
   ]
  },
  {
   "cell_type": "code",
   "execution_count": null,
   "metadata": {},
   "outputs": [],
   "source": [
    "h = [6,12,18]\n",
    "t = range(25,95)\n",
    "p = lm.get_load(model,h,t,convert=np.array,normalize=True).transpose()\n",
    "\n",
    "plt.plot(p)\n",
    "plt.xlabel(\"Temperature (degF)\")\n",
    "plt.ylabel(\"Load (MW)\")\n",
    "plt.title(\"Example 5: Load profiles\")\n",
    "plt.legend(list(map(lambda x:f\"{x}:00\",h)))\n",
    "plt.grid()\n",
    "plt.show()"
   ]
  },
  {
   "cell_type": "code",
   "execution_count": null,
   "metadata": {},
   "outputs": [],
   "source": []
  }
 ],
 "metadata": {
  "kernelspec": {
   "display_name": "Python 3",
   "language": "python",
   "name": "python3"
  },
  "language_info": {
   "codemirror_mode": {
    "name": "ipython",
    "version": 3
   },
   "file_extension": ".py",
   "mimetype": "text/x-python",
   "name": "python",
   "nbconvert_exporter": "python",
   "pygments_lexer": "ipython3",
   "version": "3.7.6"
  }
 },
 "nbformat": 4,
 "nbformat_minor": 2
}
